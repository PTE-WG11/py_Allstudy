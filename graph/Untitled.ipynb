{
 "cells": [
  {
   "cell_type": "code",
   "execution_count": 1,
   "id": "a6bf4756",
   "metadata": {},
   "outputs": [],
   "source": [
    "\"\"\"ADT\n",
    "Graph() 新建一个空图\n",
    "addVertex(vert)向图中添加一个顶点实例\n",
    "addEdge(fromVert,toVert)向图中添加一条有向边，用于连接顶点formVert和toVert\n",
    "addEdge(fromVert,toVert，weight)带权重的有向边\n",
    "getVertex(vertkey)在图中找到名为vertkey的顶点\n",
    "getVertices()以列表形式返回图中所有顶点\n",
    "vertex in graph 判断顶点是否存在\n",
    "\"\"\"\n",
    "\n",
    "\n",
    "class Vertex:\n",
    "    \"\"\"\n",
    "    Vertex类表示图中的每一个顶点\n",
    "    connectedTo：记录与其相连的每一个顶点，以及每一条边的权重\n",
    "    \"\"\"\n",
    "\n",
    "    def __init__(self, key):\n",
    "        \"\"\"在创建完对象之后 会自动调用, 它完成对象的初始化的功能\"\"\"\n",
    "        self.id = key\n",
    "        self.connectedTo = {}\n",
    "\n",
    "    def addNeighbor(self, nbr, weight=0):\n",
    "        # 添加从一个顶点到另一个顶点的连接\n",
    "        self.connectedTo[nbr] = weight\n",
    "\n",
    "    def __str__(self):\n",
    "        # 创建对象后返回给对象\n",
    "        return str(self.id) + 'connectedTo:' \\\n",
    "               + str([x.id for x in self.connectedTo])\n",
    "\n",
    "    def getConnections(self):\n",
    "        # 返回邻接表的所有顶点\n",
    "        return self.connectedTo.keys()\n",
    "\n",
    "    def getId(self):\n",
    "        return self.id\n",
    "\n",
    "    def getWeight(self, nbr):\n",
    "        # 返回从当前顶点到以参数传入的顶点之间的边的权重\n",
    "        return self.connectedTo[nbr]\n",
    "\n"
   ]
  },
  {
   "cell_type": "code",
   "execution_count": 2,
   "id": "c5d073c7",
   "metadata": {},
   "outputs": [],
   "source": [
    "class Graph:\n",
    "    \"\"\"\n",
    "    包含一个将‘顶点名’映射到‘顶点对象’的 字典。  邻接表实现\n",
    "    提供了向图中添加顶点和连接不同顶点的方法。\n",
    "\n",
    "    \"\"\"\n",
    "\n",
    "    def __init__(self):\n",
    "        self.vertList = {}  # 垂直列表\n",
    "        self.numVertices = 0  # 顶点数量\n",
    "\n",
    "    def addVertex(self, key):\n",
    "        # 添加顶点\n",
    "        self.numVertices = self.numVertices + 1\n",
    "        newVertex = Vertex(key)  # 调用并返回__str__\n",
    "        self.vertList[key] = newVertex\n",
    "        return newVertex\n",
    "\n",
    "    def getVertex(self, n):\n",
    "        # 返回图中所有顶点的名字\n",
    "        if n in self.vertList:\n",
    "            return self.vertList[n]\n",
    "        else:\n",
    "            return None\n",
    "    def __contains__(self, n):\n",
    "        return n in self.vertList\n",
    "\n",
    "    def addEdge(self,f,t,cost=0):\n",
    "        # 添加新的边\n",
    "        if f not in self.vertList:  #  如果f、t顶点不在顶点集里就加入\n",
    "            nv=self.addVertex(t)\n",
    "        if t not in self.vertList:\n",
    "            nv=self.addVertex(t)\n",
    "        self.vertList[f].addNeighbor(self.vertList[t],cost)\n",
    "    def getVertices(self):\n",
    "        # 获取顶点\n",
    "        return self.vertList.keys()\n",
    "    def __iter__(self):\n",
    "        # 遍历图中所有顶点\n",
    "        return iter(self.vertList.values())\n"
   ]
  },
  {
   "cell_type": "code",
   "execution_count": 1,
   "id": "cbc4ef04",
   "metadata": {},
   "outputs": [
    {
     "ename": "NameError",
     "evalue": "name 'Graph' is not defined",
     "output_type": "error",
     "traceback": [
      "\u001B[1;31m---------------------------------------------------------------------------\u001B[0m",
      "\u001B[1;31mNameError\u001B[0m                                 Traceback (most recent call last)",
      "\u001B[1;32m<ipython-input-1-d014813b8838>\u001B[0m in \u001B[0;36m<module>\u001B[1;34m\u001B[0m\n\u001B[1;32m----> 1\u001B[1;33m \u001B[0mg\u001B[0m\u001B[1;33m=\u001B[0m\u001B[0mGraph\u001B[0m\u001B[1;33m(\u001B[0m\u001B[1;33m)\u001B[0m\u001B[1;33m\u001B[0m\u001B[1;33m\u001B[0m\u001B[0m\n\u001B[0m\u001B[0;32m      2\u001B[0m \u001B[1;33m\u001B[0m\u001B[0m\n",
      "\u001B[1;31mNameError\u001B[0m: name 'Graph' is not defined"
     ]
    }
   ],
   "source": [
    "g=Graph()"
   ]
  },
  {
   "cell_type": "code",
   "execution_count": 2,
   "id": "f29a367c",
   "metadata": {},
   "outputs": [
    {
     "ename": "NameError",
     "evalue": "name 'g' is not defined",
     "output_type": "error",
     "traceback": [
      "\u001B[1;31m---------------------------------------------------------------------------\u001B[0m",
      "\u001B[1;31mNameError\u001B[0m                                 Traceback (most recent call last)",
      "\u001B[1;32m<ipython-input-2-ff244014b57c>\u001B[0m in \u001B[0;36m<module>\u001B[1;34m\u001B[0m\n\u001B[0;32m      1\u001B[0m \u001B[1;32mfor\u001B[0m \u001B[0mi\u001B[0m \u001B[1;32min\u001B[0m \u001B[0mrange\u001B[0m\u001B[1;33m(\u001B[0m\u001B[1;36m6\u001B[0m\u001B[1;33m)\u001B[0m\u001B[1;33m:\u001B[0m\u001B[1;33m\u001B[0m\u001B[1;33m\u001B[0m\u001B[0m\n\u001B[1;32m----> 2\u001B[1;33m     \u001B[0mg\u001B[0m\u001B[1;33m.\u001B[0m\u001B[0maddVertex\u001B[0m\u001B[1;33m(\u001B[0m\u001B[0mi\u001B[0m\u001B[1;33m)\u001B[0m\u001B[1;33m\u001B[0m\u001B[1;33m\u001B[0m\u001B[0m\n\u001B[0m\u001B[0;32m      3\u001B[0m \u001B[1;33m\u001B[0m\u001B[0m\n",
      "\u001B[1;31mNameError\u001B[0m: name 'g' is not defined"
     ]
    }
   ],
   "source": [
    "for i in range(6):\n",
    "    g.addVertex(i)"
   ]
  },
  {
   "cell_type": "code",
   "execution_count": 6,
   "id": "723c4333",
   "metadata": {},
   "outputs": [
    {
     "data": {
      "text/plain": [
       "{0: <__main__.Vertex at 0x275ff45f198>,\n",
       " 1: <__main__.Vertex at 0x275ff45f4e0>,\n",
       " 2: <__main__.Vertex at 0x275ff45f0b8>,\n",
       " 3: <__main__.Vertex at 0x275ff45f0f0>,\n",
       " 4: <__main__.Vertex at 0x275ff45f4a8>,\n",
       " 5: <__main__.Vertex at 0x275ff45f128>}"
      ]
     },
     "execution_count": 6,
     "metadata": {},
     "output_type": "execute_result"
    }
   ],
   "source": [
    "g.vertList"
   ]
  },
  {
   "cell_type": "code",
   "execution_count": null,
   "id": "4fccef59",
   "metadata": {
    "pycharm": {
     "name": "#%%\n"
    }
   },
   "outputs": [],
   "source": [
    "\n",
    "\n",
    "\n"
   ]
  }
 ],
 "metadata": {
  "kernelspec": {
   "display_name": "Python 3",
   "language": "python",
   "name": "python3"
  },
  "language_info": {
   "codemirror_mode": {
    "name": "ipython",
    "version": 3
   },
   "file_extension": ".py",
   "mimetype": "text/x-python",
   "name": "python",
   "nbconvert_exporter": "python",
   "pygments_lexer": "ipython3",
   "version": "3.6.8"
  }
 },
 "nbformat": 4,
 "nbformat_minor": 5
}